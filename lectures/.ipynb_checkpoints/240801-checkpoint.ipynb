{
 "cells": [
  {
   "cell_type": "markdown",
   "id": "7f297617-15f6-4ae7-b530-ebf95b6c2280",
   "metadata": {},
   "source": [
    "- Markdown 셀: 필기를 위한 셀\n",
    "- esc + m"
   ]
  },
  {
   "cell_type": "code",
   "execution_count": 35,
   "id": "1c041a3f-f649-4528-a2c7-bbf18df5d710",
   "metadata": {
    "scrolled": true
   },
   "outputs": [
    {
     "name": "stdout",
     "output_type": "stream",
     "text": [
      "code cell\n"
     ]
    }
   ],
   "source": [
    "print(\"code cell\")"
   ]
  },
  {
   "cell_type": "code",
   "execution_count": 44,
   "id": "05b69a97-5744-4757-94ab-bb45c4c0be1d",
   "metadata": {},
   "outputs": [],
   "source": [
    "import numpy as np\n",
    "import pandas as pd"
   ]
  },
  {
   "cell_type": "code",
   "execution_count": 45,
   "id": "3d1a2063-b206-4365-9059-1271a5bdc801",
   "metadata": {},
   "outputs": [
    {
     "data": {
      "text/plain": [
       "array([ 0,  1,  2,  3,  4,  5,  6,  7,  8,  9, 10, 11])"
      ]
     },
     "execution_count": 45,
     "metadata": {},
     "output_type": "execute_result"
    }
   ],
   "source": [
    "np.arange(12)"
   ]
  },
  {
   "cell_type": "code",
   "execution_count": 46,
   "id": "3e7ac6fd-8ec8-416c-8a12-e6d2c225f29f",
   "metadata": {},
   "outputs": [],
   "source": [
    "data = [1.0, 1.2, 3.1, 2.1, 2.8, 1.7, 0.5]"
   ]
  },
  {
   "cell_type": "code",
   "execution_count": 47,
   "id": "74d3d487-dcb1-48af-9c3a-34406b157f49",
   "metadata": {},
   "outputs": [],
   "source": [
    "arr = np.array(data)"
   ]
  },
  {
   "cell_type": "code",
   "execution_count": 48,
   "id": "49e213c9-48d8-4e64-a883-113399aa276c",
   "metadata": {},
   "outputs": [
    {
     "data": {
      "text/plain": [
       "array([1. , 1.2, 3.1, 2.1, 2.8, 1.7, 0.5])"
      ]
     },
     "execution_count": 48,
     "metadata": {},
     "output_type": "execute_result"
    }
   ],
   "source": [
    "arr"
   ]
  },
  {
   "cell_type": "code",
   "execution_count": 50,
   "id": "307001ac-516d-4d0b-81b7-0c89067aad17",
   "metadata": {},
   "outputs": [
    {
     "data": {
      "text/plain": [
       "(7,)"
      ]
     },
     "execution_count": 50,
     "metadata": {},
     "output_type": "execute_result"
    }
   ],
   "source": [
    "arr.shape"
   ]
  },
  {
   "cell_type": "code",
   "execution_count": 51,
   "id": "1c49968b-401b-4751-a461-ef9853600d17",
   "metadata": {},
   "outputs": [
    {
     "data": {
      "text/plain": [
       "1"
      ]
     },
     "execution_count": 51,
     "metadata": {},
     "output_type": "execute_result"
    }
   ],
   "source": [
    "arr.ndim"
   ]
  },
  {
   "cell_type": "code",
   "execution_count": 52,
   "id": "50235e60-08fb-4988-a86d-89f50063e4e9",
   "metadata": {},
   "outputs": [],
   "source": [
    "import numpy as np"
   ]
  },
  {
   "cell_type": "code",
   "execution_count": 54,
   "id": "37536a81-164a-42fe-94ec-dcc0c4d2f6d4",
   "metadata": {},
   "outputs": [
    {
     "data": {
      "text/plain": [
       "range(0, 10)"
      ]
     },
     "execution_count": 54,
     "metadata": {},
     "output_type": "execute_result"
    }
   ],
   "source": [
    "range(10)"
   ]
  },
  {
   "cell_type": "code",
   "execution_count": 55,
   "id": "03689846-dad5-4a4f-ac3a-a8b1d5b28a00",
   "metadata": {},
   "outputs": [
    {
     "data": {
      "text/plain": [
       "array([ 0,  1,  2,  3,  4,  5,  6,  7,  8,  9, 10, 11])"
      ]
     },
     "execution_count": 55,
     "metadata": {},
     "output_type": "execute_result"
    }
   ],
   "source": [
    "np.arange(12)"
   ]
  },
  {
   "cell_type": "code",
   "execution_count": 56,
   "id": "46fb073b-c259-4d97-a3a8-eaa12d691d8e",
   "metadata": {},
   "outputs": [
    {
     "data": {
      "text/plain": [
       "array([[ 0,  1,  2],\n",
       "       [ 3,  4,  5],\n",
       "       [ 6,  7,  8],\n",
       "       [ 9, 10, 11]])"
      ]
     },
     "execution_count": 56,
     "metadata": {},
     "output_type": "execute_result"
    }
   ],
   "source": [
    "np.arange(12).reshape(4,3)"
   ]
  },
  {
   "cell_type": "code",
   "execution_count": 57,
   "id": "17902b01-d6d3-450f-8b43-0eb5e6a197ba",
   "metadata": {},
   "outputs": [
    {
     "data": {
      "text/plain": [
       "array([1, 3, 5, 7, 9])"
      ]
     },
     "execution_count": 57,
     "metadata": {},
     "output_type": "execute_result"
    }
   ],
   "source": [
    "np.arange(1, 10, 2)"
   ]
  },
  {
   "cell_type": "code",
   "execution_count": 62,
   "id": "4e2e36e3-fbe9-42c2-9554-992cdc1911b9",
   "metadata": {},
   "outputs": [
    {
     "data": {
      "text/plain": [
       "array([[1],\n",
       "       [4],\n",
       "       [7]])"
      ]
     },
     "execution_count": 62,
     "metadata": {},
     "output_type": "execute_result"
    }
   ],
   "source": [
    "np.arange(1, 10, 3).reshape(3, 1)"
   ]
  },
  {
   "cell_type": "code",
   "execution_count": 64,
   "id": "44ade2a3-b53f-42dd-872e-41535561eb37",
   "metadata": {},
   "outputs": [
    {
     "data": {
      "text/plain": [
       "array([0, 1, 2, 3, 4, 5, 6, 7, 8])"
      ]
     },
     "execution_count": 64,
     "metadata": {},
     "output_type": "execute_result"
    }
   ],
   "source": [
    "a = np.arange(9)\n",
    "a"
   ]
  },
  {
   "cell_type": "code",
   "execution_count": 65,
   "id": "e5cba35a-ed94-4adc-baf4-435c1de7560d",
   "metadata": {},
   "outputs": [
    {
     "data": {
      "text/plain": [
       "array([[0, 1, 2],\n",
       "       [3, 4, 5],\n",
       "       [6, 7, 8]])"
      ]
     },
     "execution_count": 65,
     "metadata": {},
     "output_type": "execute_result"
    }
   ],
   "source": [
    "a.reshape(3, 3)"
   ]
  },
  {
   "cell_type": "code",
   "execution_count": 74,
   "id": "9b3c95ed-9106-4bd7-93c7-60750e2f1e88",
   "metadata": {},
   "outputs": [
    {
     "data": {
      "text/plain": [
       "array([  1,   2,   3,   4,   5,   6,   7,   8,   9,  10,  11,  12,  13,\n",
       "        14,  15,  16,  17,  18,  19,  20,  21,  22,  23,  24,  25,  26,\n",
       "        27,  28,  29,  30,  31,  32,  33,  34,  35,  36,  37,  38,  39,\n",
       "        40,  41,  42,  43,  44,  45,  46,  47,  48,  49,  50,  51,  52,\n",
       "        53,  54,  55,  56,  57,  58,  59,  60,  61,  62,  63,  64,  65,\n",
       "        66,  67,  68,  69,  70,  71,  72,  73,  74,  75,  76,  77,  78,\n",
       "        79,  80,  81,  82,  83,  84,  85,  86,  87,  88,  89,  90,  91,\n",
       "        92,  93,  94,  95,  96,  97,  98,  99, 100])"
      ]
     },
     "execution_count": 74,
     "metadata": {},
     "output_type": "execute_result"
    }
   ],
   "source": [
    "# 1-100까지 1차원 행렬\n",
    "arr = np.arange(1, 101)\n",
    "arr"
   ]
  },
  {
   "cell_type": "code",
   "execution_count": 75,
   "id": "03a5923b-48a6-4bca-956b-81fb72a5b2ca",
   "metadata": {},
   "outputs": [
    {
     "data": {
      "text/plain": [
       "array([[  1,   2,   3,   4,   5,   6,   7,   8,   9,  10,  11,  12,  13,\n",
       "         14,  15,  16,  17,  18,  19,  20,  21,  22,  23,  24,  25,  26,\n",
       "         27,  28,  29,  30,  31,  32,  33,  34,  35,  36,  37,  38,  39,\n",
       "         40,  41,  42,  43,  44,  45,  46,  47,  48,  49,  50],\n",
       "       [ 51,  52,  53,  54,  55,  56,  57,  58,  59,  60,  61,  62,  63,\n",
       "         64,  65,  66,  67,  68,  69,  70,  71,  72,  73,  74,  75,  76,\n",
       "         77,  78,  79,  80,  81,  82,  83,  84,  85,  86,  87,  88,  89,\n",
       "         90,  91,  92,  93,  94,  95,  96,  97,  98,  99, 100]])"
      ]
     },
     "execution_count": 75,
     "metadata": {},
     "output_type": "execute_result"
    }
   ],
   "source": [
    "# 위 행렬을 2개의 열로 나누기\n",
    "arr.reshape(2, 50)"
   ]
  },
  {
   "cell_type": "code",
   "execution_count": 78,
   "id": "a8481a99-1f48-45dc-bf25-2bef074d90a1",
   "metadata": {},
   "outputs": [
    {
     "data": {
      "text/plain": [
       "array([[  1,   2,   3,   4,   5,   6,   7,   8,   9,  10,  11,  12,  13,\n",
       "         14,  15,  16,  17,  18,  19,  20,  21,  22,  23,  24,  25,  26,\n",
       "         27,  28,  29,  30,  31,  32,  33,  34,  35,  36,  37,  38,  39,\n",
       "         40,  41,  42,  43,  44,  45,  46,  47,  48,  49,  50],\n",
       "       [ 51,  52,  53,  54,  55,  56,  57,  58,  59,  60,  61,  62,  63,\n",
       "         64,  65,  66,  67,  68,  69,  70,  71,  72,  73,  74,  75,  76,\n",
       "         77,  78,  79,  80,  81,  82,  83,  84,  85,  86,  87,  88,  89,\n",
       "         90,  91,  92,  93,  94,  95,  96,  97,  98,  99, 100]])"
      ]
     },
     "execution_count": 78,
     "metadata": {},
     "output_type": "execute_result"
    }
   ],
   "source": [
    "np.arange(1, 101).reshape(2, 50)"
   ]
  },
  {
   "cell_type": "code",
   "execution_count": 82,
   "id": "c7065472-05a5-4250-a456-56420010f2d7",
   "metadata": {},
   "outputs": [],
   "source": [
    "# 다차원 배열\n",
    "x = np.array([[  1,   2,   3,   4,   5,   6,   7,   8,   9,  10,  11,  12,  13,\n",
    "         14,  15,  16,  17,  18,  19,  20,  21,  22,  23,  24,  25,  26,\n",
    "         27,  28,  29,  30,  31,  32,  33,  34,  35,  36,  37,  38,  39,\n",
    "         40,  41,  42,  43,  44,  45,  46,  47,  48,  49,  50],\n",
    "       [ 51,  52,  53,  54,  55,  56,  57,  58,  59,  60,  61,  62,  63,\n",
    "         64,  65,  66,  67,  68,  69,  70,  71,  72,  73,  74,  75,  76,\n",
    "         77,  78,  79,  80,  81,  82,  83,  84,  85,  86,  87,  88,  89,\n",
    "         90,  91,  92,  93,  94,  95,  96,  97,  98,  99, 100]])"
   ]
  },
  {
   "cell_type": "code",
   "execution_count": 83,
   "id": "29d21131-5f64-48f0-94d0-be043b26acd5",
   "metadata": {},
   "outputs": [
    {
     "name": "stdout",
     "output_type": "stream",
     "text": [
      "[[  1   2   3   4   5   6   7   8   9  10  11  12  13  14  15  16  17  18\n",
      "   19  20  21  22  23  24  25  26  27  28  29  30  31  32  33  34  35  36\n",
      "   37  38  39  40  41  42  43  44  45  46  47  48  49  50]\n",
      " [ 51  52  53  54  55  56  57  58  59  60  61  62  63  64  65  66  67  68\n",
      "   69  70  71  72  73  74  75  76  77  78  79  80  81  82  83  84  85  86\n",
      "   87  88  89  90  91  92  93  94  95  96  97  98  99 100]]\n"
     ]
    }
   ],
   "source": [
    "print(x)"
   ]
  },
  {
   "cell_type": "code",
   "execution_count": 84,
   "id": "75033544-8446-4284-9054-6f9805e6050e",
   "metadata": {},
   "outputs": [
    {
     "name": "stdout",
     "output_type": "stream",
     "text": [
      "[[  1   2   3   4   5   6   7   8   9  10  11  12  13  14  15  16  17  18\n",
      "   19  20  21  22  23  24  25  26  27  28  29  30  31  32  33  34  35  36\n",
      "   37  38  39  40  41  42  43  44  45  46  47  48  49  50]\n",
      " [ 51  52  53  54  55  56  57  58  59  60  61  62  63  64  65  66  67  68\n",
      "   69  70  71  72  73  74  75  76  77  78  79  80  81  82  83  84  85  86\n",
      "   87  88  89  90  91  92  93  94  95  96  97  98  99 100]]\n"
     ]
    }
   ],
   "source": [
    "print(\"{}\".format(x))"
   ]
  },
  {
   "cell_type": "code",
   "execution_count": 87,
   "id": "26fdc94b-29f3-46c9-9ad7-c9f66c097d2f",
   "metadata": {},
   "outputs": [
    {
     "name": "stdout",
     "output_type": "stream",
     "text": [
      "[[1 2 3 4]\n",
      " [1 2 3 4]]\n"
     ]
    }
   ],
   "source": [
    "x = np.array([[1, 2, 3, 4], [1, 2, 3, 4]])\n",
    "print(x)"
   ]
  },
  {
   "cell_type": "code",
   "execution_count": 88,
   "id": "55136b60-3d39-4a32-aebe-340b5cd32bba",
   "metadata": {},
   "outputs": [
    {
     "data": {
      "text/plain": [
       "2"
      ]
     },
     "execution_count": 88,
     "metadata": {},
     "output_type": "execute_result"
    }
   ],
   "source": [
    "# 몇차원인지(dimension)\n",
    "x.ndim"
   ]
  },
  {
   "cell_type": "code",
   "execution_count": 91,
   "id": "512aee4a-1bff-4079-b295-1c23032f2414",
   "metadata": {},
   "outputs": [
    {
     "data": {
      "text/plain": [
       "array([[ 1. ,  2.7, 20. ],\n",
       "       [ 7.2,  0. ,  2.3]])"
      ]
     },
     "execution_count": 91,
     "metadata": {},
     "output_type": "execute_result"
    }
   ],
   "source": [
    "# jupyter에선 0이 표시 안 됨\n",
    "np.array([[1.0, 2.7, 20.0], [7.2, 0, 2.3]])"
   ]
  },
  {
   "cell_type": "code",
   "execution_count": 97,
   "id": "b40636a8-2100-4a87-9b2b-0f481d7df528",
   "metadata": {},
   "outputs": [
    {
     "name": "stdout",
     "output_type": "stream",
     "text": [
      "[[ 1  2  3  4]\n",
      " [ 5  6  7  8]\n",
      " [ 9 10 11 12]]\n"
     ]
    }
   ],
   "source": [
    "# 3*4 행렬. 가로 3행 세로 4열\n",
    "data = [[1, 2, 3, 4], [5, 6, 7, 8], [9, 10, 11, 12]]\n",
    "arr = np.array(data)\n",
    "print(arr)"
   ]
  },
  {
   "cell_type": "code",
   "execution_count": 98,
   "id": "e3c8bb77-dc3f-4698-ba0b-5403ca0eb722",
   "metadata": {},
   "outputs": [
    {
     "data": {
      "text/plain": [
       "array([[0.12120163, 0.32082522, 0.56693436],\n",
       "       [0.81867874, 0.82095169, 0.38951535]])"
      ]
     },
     "execution_count": 98,
     "metadata": {},
     "output_type": "execute_result"
    }
   ],
   "source": [
    "np.random.rand(2,3)"
   ]
  },
  {
   "cell_type": "code",
   "execution_count": 124,
   "id": "36907821-ae0a-4b90-97fd-6947b9013ae3",
   "metadata": {},
   "outputs": [
    {
     "data": {
      "text/plain": [
       "0.14907940790051155"
      ]
     },
     "execution_count": 124,
     "metadata": {},
     "output_type": "execute_result"
    }
   ],
   "source": [
    "np.random.rand()"
   ]
  },
  {
   "cell_type": "code",
   "execution_count": 130,
   "id": "e2578d03-31c1-4f8e-bae2-83a63f40b200",
   "metadata": {},
   "outputs": [
    {
     "data": {
      "text/plain": [
       "array([[9, 2, 1, 6],\n",
       "       [3, 1, 9, 3]])"
      ]
     },
     "execution_count": 130,
     "metadata": {},
     "output_type": "execute_result"
    }
   ],
   "source": [
    "# 1-10 사이의 숫자로 2*4 행렬 만들기\n",
    "np.random.randint(1, 10, size=(2,4))"
   ]
  },
  {
   "cell_type": "code",
   "execution_count": 159,
   "id": "bf36a1c5-eb2d-4031-a607-16037d5e990a",
   "metadata": {},
   "outputs": [
    {
     "name": "stdout",
     "output_type": "stream",
     "text": [
      "[11 22 33 44]\n",
      "[ -9 -18 -27 -36]\n",
      "[ 10  40  90 160]\n",
      "[   1   32  243 1024]\n",
      "[10. 10. 10. 10.]\n",
      "[10.          5.          3.33333333  2.5       ]\n",
      "[ True  True False False]\n",
      "[3 4]\n"
     ]
    }
   ],
   "source": [
    "# 배열의 연산\n",
    "arr1 = np.array([1, 2, 3, 4])\n",
    "arr2 = np.array([10, 20, 30, 40])\n",
    "print(arr1 + arr2)\n",
    "print(arr1 - arr2)\n",
    "print(arr1 * arr2)\n",
    "print(arr1 ** 5)\n",
    "print(arr2 / arr1)\n",
    "print(arr2 / (arr1**2))\n",
    "print(arr1**3 < 20) # 연산을 줄여줌\n",
    "print(arr1[arr1 > 2])"
   ]
  },
  {
   "cell_type": "code",
   "execution_count": 173,
   "id": "e93889bf-a03f-4368-a53c-722db49b719f",
   "metadata": {},
   "outputs": [
    {
     "name": "stdout",
     "output_type": "stream",
     "text": [
      "<class 'numpy.ndarray'> <class 'numpy.ndarray'>\n",
      "[ 1  2  3  4  5  6  7  8  9 10 11 12 13 14 15 16 17 18 19 20 21 22 23 24\n",
      " 25 26 27 28 29 30 31 32 33 34 35 36 37 38 39 40 41 42 43 44 45 46 47 48\n",
      " 49 50]\n",
      "1275\n",
      "25.5\n",
      "14.430869689661812\n",
      "208.25\n",
      "1\n",
      "50\n"
     ]
    }
   ],
   "source": [
    "# 분산(평균에 얼마나 떨어져있나), 표준편차(분산의 제곱근) 연산을 쉽게해주는 것 -> numpy\n",
    "# sum(), mean(), std(), var(), min(), max()\n",
    "\n",
    "data = np.arange(1, 51)\n",
    "arr = np.array(data)\n",
    "print(type(data), type(arr))\n",
    "\n",
    "print(arr)\n",
    "print(arr.sum())\n",
    "print(arr.mean())\n",
    "print(arr.std())\n",
    "print(arr.var())\n",
    "print(arr.min())\n",
    "print(arr.max())"
   ]
  },
  {
   "cell_type": "code",
   "execution_count": null,
   "id": "34a08b06-e3b9-4d4c-bf26-85c64d78c90c",
   "metadata": {},
   "outputs": [],
   "source": [
    "# 편차 제곱의 절대값의 합을 갯수로 나눈 값이 분산. 분산의 제곱근이 표준편차"
   ]
  },
  {
   "cell_type": "code",
   "execution_count": 176,
   "id": "491d8c9a-e0ce-4091-aedf-b8a51908bd54",
   "metadata": {},
   "outputs": [
    {
     "name": "stdout",
     "output_type": "stream",
     "text": [
      "[[10 20 30]\n",
      " [40 50 60]\n",
      " [70 80 90]]\n",
      "[[20 30]\n",
      " [50 60]]\n"
     ]
    }
   ],
   "source": [
    "# slicing\n",
    "arr = np.arange(10, 100, 10).reshape(3, 3)\n",
    "print(arr)\n",
    "print(arr[0:2, 1:3])"
   ]
  },
  {
   "cell_type": "code",
   "execution_count": 182,
   "id": "aded8ff1-0929-48df-a7f0-fcdfafee22d9",
   "metadata": {},
   "outputs": [
    {
     "name": "stdout",
     "output_type": "stream",
     "text": [
      "[[80964 13934]\n",
      " [ 9804 95688]\n",
      " [52286  7989]\n",
      " [63338  3925]]\n",
      "(4, 2)\n",
      "2\n",
      "4\n"
     ]
    }
   ],
   "source": [
    "# 미션1) 4*2 정수 배열을 생성하고 속성을 출력\n",
    "# shape, ndim, itemsize\n",
    "arr = np.random.randint(0, 100000, size=(4, 2))\n",
    "print(arr)\n",
    "print(arr.shape)\n",
    "print(arr.ndim)\n",
    "print(arr.itemsize)"
   ]
  },
  {
   "cell_type": "code",
   "execution_count": 192,
   "id": "7cfd3b54-8507-4ef9-8657-b5f0c4eefba9",
   "metadata": {},
   "outputs": [
    {
     "name": "stdout",
     "output_type": "stream",
     "text": [
      "[[100 110]\n",
      " [120 130]\n",
      " [140 150]\n",
      " [160 170]\n",
      " [180 190]]\n"
     ]
    }
   ],
   "source": [
    "# 미션2) 100-200 사이의 범위에서 각 요소의 차이가 10이 되도록 5*2 정수 배열 구현\n",
    "arr = np.arange(100, 200, 10).reshape(5, 2)\n",
    "print(arr)"
   ]
  },
  {
   "cell_type": "code",
   "execution_count": 243,
   "id": "7cf7cfb5-9817-474c-ab64-acb49ef23597",
   "metadata": {},
   "outputs": [
    {
     "name": "stdout",
     "output_type": "stream",
     "text": [
      "[[33]\n",
      " [66]\n",
      " [99]]\n"
     ]
    }
   ],
   "source": [
    "# 미션3) sampleArray = np.array([[11, 22, 33], [44, 55, 66], [77, 88, 99]]) 코드에서 \n",
    "# 세번째 열을 가져와 반환하는 코드 구현\n",
    "sampleArray = np.array([[11, 22, 33], [44, 55, 66], [77, 88, 99]])\n",
    "print(sampleArray[0:3, 2:])"
   ]
  },
  {
   "cell_type": "code",
   "execution_count": 210,
   "id": "fbd6cc70-b681-4011-b0d9-d87c6fbf5d96",
   "metadata": {},
   "outputs": [
    {
     "name": "stdout",
     "output_type": "stream",
     "text": [
      "[[15 21]\n",
      " [39 45]]\n"
     ]
    }
   ],
   "source": [
    "# 퀴즈1) sampleArray 배열에서 홀수 행과 짝수 열의 배열을 반환\n",
    "# sampleArray = numpy.array([[3 ,6, 9, 12], [15 ,18, 21, 24], [27 ,30, 33, 36], [39 ,42, 45, 48], [51 ,54, 57, 60]])\n",
    "sampleArray = np.array([[3 ,6, 9, 12], [15 ,18, 21, 24], [27 ,30, 33, 36], [39 ,42, 45, 48], [51 ,54, 57, 60]])\n",
    "print(sampleArray[1:5:2, 0:4:2])"
   ]
  },
  {
   "cell_type": "code",
   "execution_count": 241,
   "id": "2843c9b9-d8c6-41ff-9657-e6ae73115cdf",
   "metadata": {},
   "outputs": [
    {
     "name": "stdout",
     "output_type": "stream",
     "text": [
      "[[ 5  6  9]\n",
      " [21 18 27]]\n",
      "[[15 33 24]\n",
      " [ 4  7  1]]\n",
      "[[ 25  36  81]\n",
      " [441 324 729]]\n",
      "[[ 225 1089  576]\n",
      " [  16   49    1]]\n"
     ]
    }
   ],
   "source": [
    "# 퀴즈2) arrayOne, arrayTwo 배열을 출력하고, 각 요소의 제곱을 계산한 배열을 출력\n",
    "# arrayOne = numpy.array([[5, 6, 9], [21 ,18, 27]]) \n",
    "# arrayTwo = numpy.array([[15 ,33, 24], [4 ,7, 1]])\n",
    "arrayOne = np.array([[5, 6, 9], [21, 18, 27]])\n",
    "arrayTwo = np.array([[15 ,33, 24], [4 ,7, 1]])\n",
    "print(arrayOne)\n",
    "print(arrayTwo)\n",
    "arrayOne = arrayOne ** 2\n",
    "arrayTwo = arrayTwo ** 2\n",
    "print(arrayOne)\n",
    "print(arrayTwo)"
   ]
  },
  {
   "cell_type": "code",
   "execution_count": 237,
   "id": "fb22802c-73ae-4b63-a43b-487678f661fc",
   "metadata": {},
   "outputs": [
    {
     "name": "stdout",
     "output_type": "stream",
     "text": [
      "[[10 11 12 13 14 15]\n",
      " [16 17 18 19 20 21]\n",
      " [22 23 24 25 26 27]\n",
      " [28 29 30 31 32 33]]\n"
     ]
    }
   ],
   "source": [
    "# 퀴즈3) 10~34 범위에서 각 요소의 차이가 1이 되도록 8X3 정수 배열을 만든 후\n",
    "# 배열을 크기가 같은 4개의 하위 배열로 분할합니다.\n",
    "arr = np.arange(10, 34).reshape(8, 3)\n",
    "arr = arr.reshape(4, 6)\n",
    "print(arr)"
   ]
  },
  {
   "cell_type": "code",
   "execution_count": 240,
   "id": "ed91e429-77e5-4089-a317-e4079c3e1f39",
   "metadata": {},
   "outputs": [
    {
     "name": "stdout",
     "output_type": "stream",
     "text": [
      "[[34 43 73]\n",
      " [82 22 12]\n",
      " [53 94 66]]\n",
      "[[34 22 12]\n",
      " [53 43 66]\n",
      " [82 94 73]]\n",
      "[[34 43 73]\n",
      " [12 22 82]\n",
      " [53 66 94]]\n"
     ]
    }
   ],
   "source": [
    "# 퀴즈4) sampleArray = numpy.array([[34,43,73],[82,22,12],[53,94,66]])\n",
    "# 두 번째 행을 기준으로 배열 정렬\n",
    "# 두 번째 열로 배열 정렬\n",
    "sampleArray = np.array([[34, 43, 73], [82, 22, 12], [53, 94, 66]])\n",
    "print(sampleArray)\n",
    "print(np.sort(sampleArray, axis=0))\n",
    "print(np.sort(sampleArray, axis=1))"
   ]
  },
  {
   "cell_type": "code",
   "execution_count": null,
   "id": "1aaa2c11-6aca-4d00-bca2-85bad6c5bb5a",
   "metadata": {},
   "outputs": [],
   "source": []
  }
 ],
 "metadata": {
  "kernelspec": {
   "display_name": "Python 3 (ipykernel)",
   "language": "python",
   "name": "python3"
  },
  "language_info": {
   "codemirror_mode": {
    "name": "ipython",
    "version": 3
   },
   "file_extension": ".py",
   "mimetype": "text/x-python",
   "name": "python",
   "nbconvert_exporter": "python",
   "pygments_lexer": "ipython3",
   "version": "3.12.4"
  }
 },
 "nbformat": 4,
 "nbformat_minor": 5
}
